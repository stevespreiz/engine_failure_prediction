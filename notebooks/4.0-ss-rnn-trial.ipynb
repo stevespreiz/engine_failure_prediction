{
 "cells": [
  {
   "attachments": {},
   "cell_type": "markdown",
   "metadata": {},
   "source": [
    "# RNN for Engine Dataset"
   ]
  },
  {
   "cell_type": "code",
   "execution_count": 246,
   "metadata": {},
   "outputs": [],
   "source": [
    "import torch\n",
    "import numpy as np\n",
    "from sklearn.preprocessing import StandardScaler,MinMaxScaler"
   ]
  },
  {
   "cell_type": "code",
   "execution_count": 247,
   "metadata": {},
   "outputs": [],
   "source": [
    "train_file = np.loadtxt(\"../data/processed/processed_rnn_train_FD001.txt\",delimiter=\",\",skiprows=1)\n",
    "test_file  = np.loadtxt(\"../data/processed/processed_rnn_test_FD001.txt\",delimiter=\",\",skiprows=1)\n",
    "#,unit,RUL,os 1,os 2,os 3,sm 1,sm 2,sm 3,sm 4,sm 5,sm 6,sm 7,sm 8,sm 9,sm 10,sm 11,sm 12,sm 13,sm 14,sm 15,sm 16,sm 17,sm 18,sm 19,sm 20,sm 21\n",
    "train_file = train_file[:,1:]\n",
    "test_file = test_file[:,1:]\n",
    "\n",
    "scaler = MinMaxScaler()\n",
    "scaler.fit(train_file[:,1:])\n",
    "train_file[:,1:] = scaler.transform(train_file[:,1:])\n",
    "test_file[:,1:] = scaler.transform(test_file[:,1:])\n"
   ]
  },
  {
   "cell_type": "code",
   "execution_count": 248,
   "metadata": {},
   "outputs": [
    {
     "name": "stdout",
     "output_type": "stream",
     "text": [
      "(20631, 26)\n"
     ]
    }
   ],
   "source": [
    "print(train_file.shape)"
   ]
  },
  {
   "cell_type": "code",
   "execution_count": 249,
   "metadata": {},
   "outputs": [],
   "source": [
    "import random\n",
    "\n",
    "# convert time series data for 1 unit to tensor along with RUL (always 0)\n",
    "def getUnitData(data,i):\n",
    "    ind = np.where(data[:,0] == i)\n",
    "    ind = ind[0]\n",
    "    num_lines = ind.size\n",
    "    num_features = data.shape[1] - 2\n",
    "    data_tensor = torch.zeros(num_lines,1,num_features)\n",
    "    last_ind = ind[-1]\n",
    "    for t in range(num_lines):\n",
    "        for i in range(num_features):\n",
    "            data_tensor[t][0][i] = float(data[ind[t],2+i])\n",
    "    rul_tensor = torch.tensor(data[:,1],dtype=torch.float)\n",
    "\n",
    "    return data_tensor,rul_tensor\n",
    "\n",
    "# subsample a section of a unit data so not all training targets are 0\n",
    "def sampleData(data,maxUnits):\n",
    "    unit_num = random.randint(1,maxUnits)\n",
    "    data,rul = getUnitData(data,unit_num)\n",
    "    last_step = data.size()[0]\n",
    "\n",
    "    # minimum size for training series\n",
    "    min_steps = 15\n",
    "    max_steps = 100\n",
    "\n",
    "    #select random starting index and length for training example\n",
    "    start = random.randint(0,max_steps-min_steps)\n",
    "    length = random.randint(min_steps,max_steps)\n",
    "    end = min(start+length,last_step)\n",
    "    length = start - end\n",
    "\n",
    "    data = data[start:end]\n",
    "    rul = rul[start:end]\n",
    "\n",
    "    return data,rul\n"
   ]
  },
  {
   "cell_type": "code",
   "execution_count": 250,
   "metadata": {},
   "outputs": [
    {
     "name": "stdout",
     "output_type": "stream",
     "text": [
      "tensor([0.4488, 0.4460, 0.4432, 0.4404, 0.4377, 0.4349, 0.4321, 0.4294, 0.4266,\n",
      "        0.4238, 0.4211, 0.4183, 0.4155, 0.4127, 0.4100, 0.4072, 0.4044, 0.4017,\n",
      "        0.3989, 0.3961, 0.3934, 0.3906, 0.3878, 0.3850, 0.3823, 0.3795, 0.3767,\n",
      "        0.3740, 0.3712, 0.3684, 0.3657, 0.3629, 0.3601, 0.3573, 0.3546, 0.3518,\n",
      "        0.3490, 0.3463, 0.3435, 0.3407, 0.3380, 0.3352, 0.3324, 0.3296, 0.3269,\n",
      "        0.3241, 0.3213, 0.3186, 0.3158, 0.3130, 0.3102, 0.3075, 0.3047, 0.3019])\n"
     ]
    }
   ],
   "source": [
    "# print(getUnitData(train_file,1)[1])\n",
    "print(sampleData(train_file,100)[1])"
   ]
  },
  {
   "cell_type": "code",
   "execution_count": 251,
   "metadata": {},
   "outputs": [
    {
     "name": "stdout",
     "output_type": "stream",
     "text": [
      "Using cuda device\n"
     ]
    }
   ],
   "source": [
    "device = \"cuda\" if torch.cuda.is_available() else \"mps\" if torch.backends.mps.is_available() else \"cpu\"\n",
    "print(f\"Using {device} device\")"
   ]
  },
  {
   "attachments": {},
   "cell_type": "markdown",
   "metadata": {},
   "source": [
    "## Design Network"
   ]
  },
  {
   "cell_type": "code",
   "execution_count": 252,
   "metadata": {},
   "outputs": [],
   "source": [
    "import torch.nn as nn\n",
    "\n",
    "class RNN(nn.Module):\n",
    "    def __init__(self, input_size, hidden_size, output_size,n_layers):\n",
    "        super(RNN, self).__init__()\n",
    "\n",
    "        self.hidden_size = hidden_size\n",
    "        self.n_layers = n_layers\n",
    "\n",
    "        self.rnn = nn.RNN(input_size,hidden_size,n_layers)\n",
    "        self.fc = nn.Linear(hidden_size,output_size)\n",
    "\n",
    "    def forward(self, input):\n",
    "        hidden = self.initHidden()\n",
    "\n",
    "        output,hidden = self.rnn(input,hidden)\n",
    "\n",
    "        output = output.contiguous().view(-1,self.hidden_size)\n",
    "        output = self.fc(output)\n",
    "        \n",
    "        return output, hidden\n",
    "\n",
    "    def initHidden(self):\n",
    "        return torch.zeros(self.n_layers,1, self.hidden_size).to(device)\n",
    "\n",
    "n_features = 24\n",
    "n_hidden = 48\n",
    "n_layers = 4\n",
    "n_output = 1\n",
    "rnn = RNN(n_features, n_hidden, n_output, n_layers)\n",
    "rnn = rnn.to(device)\n",
    "\n",
    "loss_fn = nn.L1Loss()\n",
    "learning_rate = 1e-5\n",
    "optimizer = torch.optim.Adam(rnn.parameters(),lr=learning_rate)"
   ]
  },
  {
   "cell_type": "code",
   "execution_count": 253,
   "metadata": {},
   "outputs": [],
   "source": [
    "def train(data,target):\n",
    "    optimizer.zero_grad()\n",
    "    data.to(device)\n",
    "\n",
    "    output,hidden = rnn(data)\n",
    "    \n",
    "    loss = loss_fn(torch.squeeze(output),target)\n",
    "    loss.backward()\n",
    "    optimizer.step()\n",
    "\n",
    "    return output,loss.item()"
   ]
  },
  {
   "cell_type": "code",
   "execution_count": 254,
   "metadata": {},
   "outputs": [
    {
     "name": "stdout",
     "output_type": "stream",
     "text": [
      "torch.Size([192, 1, 24])\n"
     ]
    }
   ],
   "source": [
    "maxUnits = int(np.max(train_file[:,0]))\n",
    "\n",
    "input,rul = getUnitData(train_file,1)\n",
    "print(input.size())\n",
    "\n",
    "# hidden = torch.zeros(1, n_hidden)\n",
    "output, next_hidden = rnn(input.to(device))\n",
    "# print(output)"
   ]
  },
  {
   "attachments": {},
   "cell_type": "markdown",
   "metadata": {},
   "source": [
    "## Training"
   ]
  },
  {
   "cell_type": "code",
   "execution_count": 267,
   "metadata": {},
   "outputs": [
    {
     "name": "stdout",
     "output_type": "stream",
     "text": [
      "50% (0m 14s) 0.0856\n",
      "100% (0m 27s) 0.0496\n"
     ]
    }
   ],
   "source": [
    "import time\n",
    "import math\n",
    "\n",
    "n_iters = 1000\n",
    "print_every = 500\n",
    "plot_every = 500\n",
    "\n",
    "# Keep track of losses for plotting\n",
    "current_loss = 0\n",
    "all_losses = []\n",
    "\n",
    "def timeSince(since):\n",
    "    now = time.time()\n",
    "    s = now - since\n",
    "    m = math.floor(s / 60)\n",
    "    s -= m * 60\n",
    "    return '%dm %ds' % (m, s)\n",
    "\n",
    "start = time.time()\n",
    "\n",
    "for iter in range(1, n_iters + 1):\n",
    "    rnn.train()\n",
    "    data,rul = sampleData(train_file,maxUnits)\n",
    "\n",
    "    data = data.to(device)\n",
    "    rul = rul.to(device)\n",
    "\n",
    "    output, loss = train(data,rul)\n",
    "\n",
    "    current_loss += loss\n",
    "\n",
    "    # Print iter number, loss, name and guess\n",
    "    if iter % print_every == 0:\n",
    "        # guess, guess_i = categoryFromOutput(output)\n",
    "        # correct = '✓' if guess == category else '✗ (%s)' % category\n",
    "        print('%d%% (%s) %.4f' % (iter / n_iters * 100, timeSince(start), loss))\n",
    "\n",
    "    # Add current loss avg to list of losses\n",
    "    if iter % plot_every == 0:\n",
    "        all_losses.append(current_loss / plot_every)\n",
    "        current_loss = 0"
   ]
  },
  {
   "cell_type": "code",
   "execution_count": 268,
   "metadata": {},
   "outputs": [
    {
     "data": {
      "text/plain": [
       "[<matplotlib.lines.Line2D at 0x213e11eb7f0>]"
      ]
     },
     "execution_count": 268,
     "metadata": {},
     "output_type": "execute_result"
    },
    {
     "data": {
      "image/png": "[encoded data removed]",
      "text/plain": [
       "<Figure size 640x480 with 1 Axes>"
      ]
     },
     "metadata": {},
     "output_type": "display_data"
    }
   ],
   "source": [
    "import matplotlib.pyplot as plt\n",
    "import matplotlib.ticker as ticker\n",
    "\n",
    "plt.figure()\n",
    "plt.plot(all_losses)\n",
    "# plt.ylim([0,5000])"
   ]
  },
  {
   "attachments": {},
   "cell_type": "markdown",
   "metadata": {},
   "source": [
    "## Testing Model Performance"
   ]
  },
  {
   "cell_type": "code",
   "execution_count": 269,
   "metadata": {},
   "outputs": [],
   "source": [
    "def evaluate(input):\n",
    "    with torch.no_grad():\n",
    "        # hidden = rnn.initHidden()\n",
    "\n",
    "        # for t in range(input.size()[0]):\n",
    "        rnn.eval()\n",
    "        output,hidden = rnn(input)\n",
    "    \n",
    "    return output\n",
    "\n",
    "def predict(input):\n",
    "    output = evaluate(input)\n",
    "\n",
    "    return output"
   ]
  },
  {
   "cell_type": "code",
   "execution_count": 272,
   "metadata": {},
   "outputs": [
    {
     "name": "stdout",
     "output_type": "stream",
     "text": [
      "tensor([0.2342])\n",
      "tensor([0.2734])\n",
      "tensor([0.2967])\n",
      "tensor([0.2786])\n",
      "tensor([0.2414])\n",
      "tensor([0.2690])\n",
      "tensor([0.3231])\n",
      "tensor([0.3071])\n",
      "tensor([0.2528])\n",
      "tensor([0.2615])\n",
      "tensor([0.3117])\n",
      "tensor([0.2876])\n",
      "tensor([0.2676])\n",
      "tensor([0.3317])\n",
      "tensor([0.2878])\n",
      "tensor([0.3074])\n",
      "tensor([0.2670])\n",
      "tensor([0.2453])\n",
      "tensor([0.2622])\n",
      "tensor([0.2743])\n",
      "tensor([0.2916])\n",
      "tensor([0.3115])\n",
      "tensor([0.2741])\n",
      "tensor([0.2810])\n",
      "tensor([0.2819])\n",
      "tensor([0.3160])\n",
      "tensor([0.2625])\n",
      "tensor([0.3178])\n",
      "tensor([0.2530])\n",
      "tensor([0.2803])\n",
      "tensor([0.3327])\n",
      "tensor([0.3132])\n",
      "tensor([0.3359])\n",
      "tensor([0.2445])\n",
      "tensor([0.2895])\n",
      "tensor([0.2680])\n",
      "tensor([0.3217])\n",
      "tensor([0.2312])\n",
      "tensor([0.2741])\n",
      "tensor([0.2911])\n",
      "tensor([0.3311])\n",
      "tensor([0.2465])\n",
      "tensor([0.3155])\n",
      "tensor([0.2910])\n",
      "tensor([0.2566])\n",
      "tensor([0.2600])\n",
      "tensor([0.2077])\n",
      "tensor([0.2304])\n",
      "tensor([0.3083])\n",
      "tensor([0.3031])\n",
      "tensor([0.2651])\n",
      "tensor([0.3310])\n",
      "tensor([0.2722])\n",
      "tensor([0.2692])\n",
      "tensor([0.2773])\n",
      "tensor([0.2294])\n",
      "tensor([0.2771])\n",
      "tensor([0.3065])\n",
      "tensor([0.2852])\n",
      "tensor([0.2846])\n",
      "tensor([0.2654])\n",
      "tensor([0.3488])\n",
      "tensor([0.2799])\n",
      "tensor([0.2528])\n",
      "tensor([0.2975])\n",
      "tensor([0.2880])\n",
      "tensor([0.2866])\n",
      "tensor([0.2646])\n",
      "tensor([0.3302])\n",
      "tensor([0.3340])\n",
      "tensor([0.3003])\n",
      "tensor([0.3145])\n",
      "tensor([0.2802])\n",
      "tensor([0.2509])\n",
      "tensor([0.2544])\n",
      "tensor([0.3034])\n",
      "tensor([0.2616])\n",
      "tensor([0.2403])\n",
      "tensor([0.2733])\n",
      "tensor([0.2810])\n",
      "tensor([0.3481])\n",
      "tensor([0.2690])\n",
      "tensor([0.2355])\n",
      "tensor([0.2019])\n",
      "tensor([0.2558])\n",
      "tensor([0.3432])\n",
      "tensor([0.2961])\n",
      "tensor([0.2938])\n",
      "tensor([0.2476])\n",
      "tensor([0.3321])\n",
      "tensor([0.2658])\n",
      "tensor([0.3041])\n",
      "tensor([0.3441])\n",
      "tensor([0.2299])\n",
      "tensor([0.2988])\n",
      "tensor([0.3195])\n",
      "tensor([0.2063])\n",
      "tensor([0.2886])\n",
      "tensor([0.2806])\n",
      "tensor([0.2347])\n",
      "[[ 0.05414359]\n",
      " [ 0.04628597]\n",
      " [ 0.05849649]\n",
      " [-0.20620674]\n",
      " [ 0.08354026]\n",
      " [ 0.11391915]\n",
      " [ 0.00729725]\n",
      " [-0.02251506]\n",
      " [ 0.07274209]\n",
      " [-0.05156097]\n",
      " [-0.00406826]\n",
      " [-0.00053045]\n",
      " [-0.11745018]\n",
      " [ 0.09904249]\n",
      " [-0.0585047 ]\n",
      " [-0.1607888 ]\n",
      " [ 0.0065693 ]\n",
      " [ 0.0320213 ]\n",
      " [ 0.01838358]\n",
      " [-0.06918055]\n",
      " [-0.104516  ]\n",
      " [-0.07352695]\n",
      " [-0.01674581]\n",
      " [-0.00988567]\n",
      " [ 0.04925035]\n",
      " [ 0.1442951 ]\n",
      " [ 0.01321042]\n",
      " [-0.11984619]\n",
      " [ 0.13667837]\n",
      " [-0.04657081]\n",
      " [-0.00248769]\n",
      " [-0.01922545]\n",
      " [ 0.05610573]\n",
      " [ 0.08657148]\n",
      " [-0.05957481]\n",
      " [ 0.05475201]\n",
      " [ 0.02811837]\n",
      " [ 0.12319711]\n",
      " [-0.01674575]\n",
      " [ 0.01128462]\n",
      " [ 0.00977349]\n",
      " [-0.00557923]\n",
      " [-0.05015117]\n",
      " [-0.01922557]\n",
      " [ 0.00732905]\n",
      " [ 0.03286888]\n",
      " [ 0.05811654]\n",
      " [ 0.0586862 ]\n",
      " [-0.14048833]\n",
      " [-0.10962421]\n",
      " [ 0.14597508]\n",
      " [-0.05684876]\n",
      " [ 0.06998046]\n",
      " [ 0.03933161]\n",
      " [-0.02744356]\n",
      " [ 0.10201854]\n",
      " [ 0.00560784]\n",
      " [ 0.19567193]\n",
      " [-0.01397818]\n",
      " [ 0.02700618]\n",
      " [-0.15288129]\n",
      " [ 0.05794528]\n",
      " [ 0.02783155]\n",
      " [-0.04361919]\n",
      " [ 0.14234759]\n",
      " [-0.12473288]\n",
      " [ 0.0898886 ]\n",
      " [ 0.01529595]\n",
      " [ 0.01161799]\n",
      " [ 0.12621836]\n",
      " [ 0.2587676 ]\n",
      " [-0.02349651]\n",
      " [ 0.0087499 ]\n",
      " [ 0.07916382]\n",
      " [ 0.02169572]\n",
      " [ 0.14831527]\n",
      " [-0.20379049]\n",
      " [ 0.00204603]\n",
      " [ 0.06275451]\n",
      " [-0.00988567]\n",
      " [-0.02860278]\n",
      " [ 0.0695325 ]\n",
      " [ 0.10529067]\n",
      " [ 0.15479062]\n",
      " [ 0.08959544]\n",
      " [ 0.03848311]\n",
      " [ 0.03294513]\n",
      " [ 0.0112507 ]\n",
      " [ 0.0925047 ]\n",
      " [ 0.01078916]\n",
      " [ 0.09963003]\n",
      " [-0.03937978]\n",
      " [ 0.01442081]\n",
      " [ 0.16614172]\n",
      " [ 0.10212874]\n",
      " [ 0.0148401 ]\n",
      " [ 0.17031477]\n",
      " [ 0.03096241]\n",
      " [-0.12106687]\n",
      " [-0.00353874]]\n"
     ]
    }
   ],
   "source": [
    "n_train = 100\n",
    "error = np.zeros((n_train,1))\n",
    "for i in range(n_train):\n",
    "    data,rul = sampleData(train_file,maxUnits)\n",
    "    data = data.to(device)\n",
    "    rul = rul.to(device)\n",
    "    pred = predict(data)\n",
    "    print(pred[-1].cpu())\n",
    "    error[i] = ((pred[-1] - rul[-1]).cpu())\n",
    "print(error)"
   ]
  },
  {
   "cell_type": "code",
   "execution_count": 273,
   "metadata": {},
   "outputs": [
    {
     "name": "stdout",
     "output_type": "stream",
     "text": [
      "23.966045012921096\n"
     ]
    },
    {
     "data": {
      "image/png": "[encoded data removed]",
      "text/plain": [
       "<Figure size 640x480 with 1 Axes>"
      ]
     },
     "metadata": {},
     "output_type": "display_data"
    }
   ],
   "source": [
    "err = np.zeros((n_train,25))\n",
    "err[:,0] = error[:,0]\n",
    "err = scaler.inverse_transform(err)\n",
    "error = err[:,0]\n",
    "plt.hist(error)\n",
    "print(np.average(np.abs(error)))"
   ]
  },
  {
   "cell_type": "code",
   "execution_count": null,
   "metadata": {},
   "outputs": [],
   "source": []
  }
 ],
 "metadata": {
  "kernelspec": {
   "display_name": "base",
   "language": "python",
   "name": "python3"
  },
  "language_info": {
   "codemirror_mode": {
    "name": "ipython",
    "version": 3
   },
   "file_extension": ".py",
   "mimetype": "text/x-python",
   "name": "python",
   "nbconvert_exporter": "python",
   "pygments_lexer": "ipython3",
   "version": "3.9.13"
  },
  "orig_nbformat": 4
 },
 "nbformat": 4,
 "nbformat_minor": 2
}
