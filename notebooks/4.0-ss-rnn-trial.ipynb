{
 "cells": [
  {
   "attachments": {},
   "cell_type": "markdown",
   "metadata": {},
   "source": [
    "# RNN for Engine Dataset"
   ]
  },
  {
   "cell_type": "code",
   "execution_count": 405,
   "metadata": {},
   "outputs": [],
   "source": [
    "import torch\n",
    "import numpy as np"
   ]
  },
  {
   "cell_type": "code",
   "execution_count": 406,
   "metadata": {},
   "outputs": [],
   "source": [
    "train_file = np.loadtxt(\"../data/processed/processed_rnn_train_FD001.txt\",delimiter=\",\",skiprows=1)\n",
    "test_file  = np.loadtxt(\"../data/processed/processed_rnn_test_FD001.txt\",delimiter=\",\",skiprows=1)\n",
    "#,unit,RUL,os 1,os 2,os 3,sm 1,sm 2,sm 3,sm 4,sm 5,sm 6,sm 7,sm 8,sm 9,sm 10,sm 11,sm 12,sm 13,sm 14,sm 15,sm 16,sm 17,sm 18,sm 19,sm 20,sm 21\n",
    "train_file = train_file[:,1:]\n",
    "test_file = test_file[:,1:]\n"
   ]
  },
  {
   "cell_type": "code",
   "execution_count": 407,
   "metadata": {},
   "outputs": [
    {
     "name": "stdout",
     "output_type": "stream",
     "text": [
      "(20631, 26)\n"
     ]
    }
   ],
   "source": [
    "print(train_file.shape)"
   ]
  },
  {
   "cell_type": "code",
   "execution_count": 415,
   "metadata": {},
   "outputs": [],
   "source": [
    "import random\n",
    "\n",
    "# convert time series data for 1 unit to tensor along with RUL (always 0)\n",
    "def getUnitData(data,i):\n",
    "    ind = np.where(data[:,0] == i)\n",
    "    ind = ind[0]\n",
    "    num_lines = ind.size\n",
    "    num_features = data.shape[1] - 2\n",
    "    data_tensor = torch.zeros(num_lines,1,num_features)\n",
    "    last_ind = ind[-1]\n",
    "    for t in range(num_lines):\n",
    "        for i in range(num_features):\n",
    "            data_tensor[t][0][i] = float(data[ind[t],2+i])\n",
    "    rul_tensor = torch.tensor(data[last_ind,1],dtype=torch.float)\n",
    "\n",
    "    return data_tensor,rul_tensor\n",
    "\n",
    "# subsample a section of a unit data so not all training targets are 0\n",
    "def sampleData(data,maxUnits):\n",
    "    unit_num = random.randint(1,maxUnits)\n",
    "    data,rul = getUnitData(data,unit_num)\n",
    "    last_step = data.size()[0]\n",
    "\n",
    "    # minimum size for training series\n",
    "    min_steps = 15\n",
    "    max_steps = 100\n",
    "\n",
    "    #select random starting index and length for training example\n",
    "    start = random.randint(0,max_steps-min_steps)\n",
    "    length = random.randint(min_steps,max_steps)\n",
    "    end = min(start+length,last_step)\n",
    "    length = start - end\n",
    "\n",
    "    data = data[start:end]\n",
    "    rul = torch.tensor([[rul.item() + last_step - end - 1]])\n",
    "\n",
    "    return data,rul\n"
   ]
  },
  {
   "cell_type": "code",
   "execution_count": 416,
   "metadata": {},
   "outputs": [
    {
     "name": "stdout",
     "output_type": "stream",
     "text": [
      "tensor([[46.]])\n"
     ]
    }
   ],
   "source": [
    "# print(getUnitData(train_file,1)[1])\n",
    "print(sampleData(train_file,100)[1])"
   ]
  },
  {
   "attachments": {},
   "cell_type": "markdown",
   "metadata": {},
   "source": [
    "## Design Network"
   ]
  },
  {
   "cell_type": "code",
   "execution_count": 417,
   "metadata": {},
   "outputs": [],
   "source": [
    "import torch.nn as nn\n",
    "\n",
    "class RNN(nn.Module):\n",
    "    def __init__(self, input_size, hidden_size, output_size):\n",
    "        super(RNN, self).__init__()\n",
    "\n",
    "        self.hidden_size = hidden_size\n",
    "\n",
    "        self.i2h = nn.Linear(input_size + hidden_size, hidden_size)\n",
    "        self.i2o = nn.Linear(input_size + hidden_size, output_size)\n",
    "\n",
    "    def forward(self, input, hidden):\n",
    "        combined = torch.cat((input, hidden), 1)\n",
    "        hidden = self.i2h(combined)\n",
    "        output = self.i2o(combined)\n",
    "        return output, hidden\n",
    "\n",
    "    def initHidden(self):\n",
    "        return torch.zeros(1, self.hidden_size)\n",
    "\n",
    "n_features = 24\n",
    "n_hidden = 256\n",
    "n_output = 1\n",
    "rnn = RNN(n_features, n_hidden, n_output)\n",
    "\n",
    "loss_fn = nn.MSELoss()\n",
    "learning_rate = 5e-12"
   ]
  },
  {
   "cell_type": "code",
   "execution_count": 418,
   "metadata": {},
   "outputs": [],
   "source": [
    "def train(data,target):\n",
    "    hidden = rnn.initHidden()\n",
    "    rnn.zero_grad()\n",
    "\n",
    "    for t in range(data.size()[0]):\n",
    "        output,hidden = rnn(data[t],hidden)\n",
    "    \n",
    "    loss = loss_fn(output,target)\n",
    "    loss.backward()\n",
    "\n",
    "    # Adjust parameters\n",
    "    for p in rnn.parameters():\n",
    "        p.data.add_(p.grad.data,alpha=-learning_rate)\n",
    "\n",
    "    return output,loss.item()"
   ]
  },
  {
   "cell_type": "code",
   "execution_count": 419,
   "metadata": {},
   "outputs": [
    {
     "name": "stdout",
     "output_type": "stream",
     "text": [
      "torch.Size([1, 24])\n",
      "tensor([[-409.7996]], grad_fn=<AddmmBackward0>)\n"
     ]
    }
   ],
   "source": [
    "maxUnits = int(np.max(train_file[:,0]))\n",
    "\n",
    "input,rul = getUnitData(train_file,1)\n",
    "print(input[0].size())\n",
    "\n",
    "hidden = torch.zeros(1, n_hidden)\n",
    "output, next_hidden = rnn(input[1], hidden)\n",
    "print(output)"
   ]
  },
  {
   "attachments": {},
   "cell_type": "markdown",
   "metadata": {},
   "source": [
    "## Training"
   ]
  },
  {
   "cell_type": "code",
   "execution_count": 423,
   "metadata": {},
   "outputs": [
    {
     "name": "stdout",
     "output_type": "stream",
     "text": [
      "10% (0m 2s) 118961.2891\n",
      "20% (0m 5s) 67401.0547\n",
      "30% (0m 8s) 39870.4805\n",
      "40% (0m 11s) 7595.6973\n",
      "50% (0m 14s) 3450.3645\n",
      "60% (0m 17s) 2084.1194\n",
      "70% (0m 20s) 3425.2031\n",
      "80% (0m 23s) 1345.9430\n",
      "90% (0m 26s) 737.3836\n",
      "100% (0m 29s) 8198.9814\n"
     ]
    }
   ],
   "source": [
    "import time\n",
    "import math\n",
    "\n",
    "n_iters = 1000\n",
    "print_every = 100\n",
    "plot_every = 100\n",
    "\n",
    "# Keep track of losses for plotting\n",
    "current_loss = 0\n",
    "all_losses = []\n",
    "\n",
    "def timeSince(since):\n",
    "    now = time.time()\n",
    "    s = now - since\n",
    "    m = math.floor(s / 60)\n",
    "    s -= m * 60\n",
    "    return '%dm %ds' % (m, s)\n",
    "\n",
    "start = time.time()\n",
    "\n",
    "for iter in range(1, n_iters + 1):\n",
    "    data,rul = sampleData(train_file,maxUnits)\n",
    "    output, loss = train(data,rul)\n",
    "\n",
    "    current_loss += loss\n",
    "\n",
    "    # Print iter number, loss, name and guess\n",
    "    if iter % print_every == 0:\n",
    "        # guess, guess_i = categoryFromOutput(output)\n",
    "        # correct = '✓' if guess == category else '✗ (%s)' % category\n",
    "        print('%d%% (%s) %.4f' % (iter / n_iters * 100, timeSince(start), loss))\n",
    "\n",
    "    # Add current loss avg to list of losses\n",
    "    if iter % plot_every == 0:\n",
    "        all_losses.append(current_loss / plot_every)\n",
    "        current_loss = 0"
   ]
  },
  {
   "cell_type": "code",
   "execution_count": 424,
   "metadata": {},
   "outputs": [
    {
     "data": {
      "text/plain": [
       "[<matplotlib.lines.Line2D at 0x294cd195880>]"
      ]
     },
     "execution_count": 424,
     "metadata": {},
     "output_type": "execute_result"
    },
    {
     "data": {
      "image/png": "[encoded data removed]",
      "text/plain": [
       "<Figure size 640x480 with 1 Axes>"
      ]
     },
     "metadata": {},
     "output_type": "display_data"
    }
   ],
   "source": [
    "import matplotlib.pyplot as plt\n",
    "import matplotlib.ticker as ticker\n",
    "\n",
    "plt.figure()\n",
    "plt.plot(all_losses)\n",
    "# plt.ylim([0,5000])"
   ]
  },
  {
   "attachments": {},
   "cell_type": "markdown",
   "metadata": {},
   "source": [
    "## Testing Model Performance"
   ]
  },
  {
   "cell_type": "code",
   "execution_count": 434,
   "metadata": {},
   "outputs": [],
   "source": [
    "def evaluate(input):\n",
    "    with torch.no_grad():\n",
    "        hidden = rnn.initHidden()\n",
    "\n",
    "        for t in range(input.size()[0]):\n",
    "            output,hidden = rnn(input[t],hidden)\n",
    "    \n",
    "    return output\n",
    "\n",
    "def predict(input):\n",
    "    output = evaluate(input)\n",
    "\n",
    "    return output"
   ]
  },
  {
   "cell_type": "code",
   "execution_count": 459,
   "metadata": {},
   "outputs": [],
   "source": [
    "n_train = 100\n",
    "error = np.zeros((n_train,1))\n",
    "for i in range(n_train):\n",
    "    data,rul = sampleData(train_file,maxUnits)\n",
    "    pred = predict(data)\n",
    "    error[i] = (pred - rul).item()"
   ]
  },
  {
   "cell_type": "code",
   "execution_count": 460,
   "metadata": {},
   "outputs": [
    {
     "data": {
      "text/plain": [
       "(array([ 1.,  0.,  5.,  3., 11., 14., 23., 19., 14., 10.]),\n",
       " array([-222.46578979, -191.2569725 , -160.04815521, -128.83933792,\n",
       "         -97.63052063,  -66.42170334,  -35.21288605,   -4.00406876,\n",
       "          27.20474854,   58.41356583,   89.62238312]),\n",
       " <BarContainer object of 10 artists>)"
      ]
     },
     "execution_count": 460,
     "metadata": {},
     "output_type": "execute_result"
    },
    {
     "data": {
      "image/png": "[encoded data removed]",
      "text/plain": [
       "<Figure size 640x480 with 1 Axes>"
      ]
     },
     "metadata": {},
     "output_type": "display_data"
    }
   ],
   "source": [
    "plt.hist(error)"
   ]
  }
 ],
 "metadata": {
  "kernelspec": {
   "display_name": "base",
   "language": "python",
   "name": "python3"
  },
  "language_info": {
   "codemirror_mode": {
    "name": "ipython",
    "version": 3
   },
   "file_extension": ".py",
   "mimetype": "text/x-python",
   "name": "python",
   "nbconvert_exporter": "python",
   "pygments_lexer": "ipython3",
   "version": "3.9.13"
  },
  "orig_nbformat": 4
 },
 "nbformat": 4,
 "nbformat_minor": 2
}
